{
 "cells": [
  {
   "cell_type": "markdown",
   "metadata": {},
   "source": [
    "# Navigation\n",
    "\n",
    "---\n",
    "Train an Agent on Unity ML-Agents environment to navigate and collect as many yellow bananas as possible."
   ]
  },
  {
   "cell_type": "code",
   "execution_count": 1,
   "metadata": {},
   "outputs": [],
   "source": [
    "# import required packages\n",
    "import torch\n",
    "import numpy as np\n",
    "from unityagents import UnityEnvironment"
   ]
  },
  {
   "cell_type": "code",
   "execution_count": 2,
   "metadata": {},
   "outputs": [],
   "source": [
    "seed    = 42   # initialize the seed to get similar outcomes\n",
    "# device  = torch.device(\"cuda:0\" if torch.cuda.is_available() else \"cpu\") # initialize the device\n",
    "# print(\"Device: {}\".format(device))\n",
    "device = \"cpu\""
   ]
  },
  {
   "cell_type": "code",
   "execution_count": 3,
   "metadata": {},
   "outputs": [
    {
     "name": "stderr",
     "output_type": "stream",
     "text": [
      "INFO:unityagents:\n",
      "'Academy' started successfully!\n",
      "Unity Academy name: Academy\n",
      "        Number of Brains: 1\n",
      "        Number of External Brains : 1\n",
      "        Lesson number : 0\n",
      "        Reset Parameters :\n",
      "\t\t\n",
      "Unity brain name: BananaBrain\n",
      "        Number of Visual Observations (per agent): 0\n",
      "        Vector Observation space type: continuous\n",
      "        Vector Observation space size (per agent): 37\n",
      "        Number of stacked Vector Observation: 1\n",
      "        Vector Action space type: discrete\n",
      "        Vector Action space size (per agent): 4\n",
      "        Vector Action descriptions: , , , \n"
     ]
    }
   ],
   "source": [
    "# setup the environment by providing the path to the env file\n",
    "env = UnityEnvironment(file_name=\"Banana_Linux/Banana.x86_64\", seed=seed)"
   ]
  },
  {
   "cell_type": "code",
   "execution_count": 4,
   "metadata": {},
   "outputs": [],
   "source": [
    "# get the default brain\n",
    "# brains are responsible for deciding the actions of their associated agents\n",
    "brain_name = env.brain_names[0]\n",
    "brain = env.brains[brain_name]"
   ]
  },
  {
   "cell_type": "code",
   "execution_count": 5,
   "metadata": {},
   "outputs": [
    {
     "name": "stdout",
     "output_type": "stream",
     "text": [
      "Number of agents: 1\n",
      "Number of actions: 4\n",
      "States look like: [0.         1.         0.         0.         0.78926337 0.\n",
      " 1.         0.         0.         0.55464244 0.         1.\n",
      " 0.         0.         0.42521358 0.         1.         0.\n",
      " 0.         0.56680632 0.         1.         0.         0.\n",
      " 0.46538338 0.         1.         0.         0.         0.51788217\n",
      " 0.         0.         1.         0.         0.39806581 0.\n",
      " 0.        ]\n",
      "States have length: 37\n"
     ]
    }
   ],
   "source": [
    "# examine the state and action spaces\n",
    "# reset the environment\n",
    "env_info = env.reset(train_mode=True)[brain_name]\n",
    "# number of agents in the environment\n",
    "print('Number of agents:', len(env_info.agents))\n",
    "# number of actions\n",
    "action_size = brain.vector_action_space_size\n",
    "print('Number of actions:', action_size)\n",
    "# examine the state space \n",
    "state = env_info.vector_observations[0]\n",
    "print('States look like:', state)\n",
    "state_size = len(state)\n",
    "print('States have length:', state_size)"
   ]
  },
  {
   "cell_type": "markdown",
   "metadata": {},
   "source": [
    "### Train the agent"
   ]
  },
  {
   "cell_type": "code",
   "execution_count": 6,
   "metadata": {},
   "outputs": [],
   "source": [
    "# import required torch libraries\n",
    "from torch import nn\n",
    "\n",
    "class DQNetwork(nn.Module):\n",
    "    \"\"\" A Deep-Q-Network model. \"\"\"\n",
    "    def __init__(self, state_size, action_size, seed):\n",
    "        \"\"\" Initialize parameters and build model. \n",
    "        Parameters\n",
    "        ----------\n",
    "            state_size (int):   Dimension of each state\n",
    "            action_size (int):  Dimension of each action\n",
    "            seed(int):          Random seed\n",
    "        \"\"\"\n",
    "        super(DQNetwork, self).__init__()\n",
    "        self.seed   = torch.manual_seed(seed)\n",
    "\n",
    "        # Define the fully connected layers\n",
    "        self.fc1    = nn.Linear(state_size, 128)\n",
    "        self.relu1  = nn.ReLU()\n",
    "        self.bn1    = nn.BatchNorm1d(128)\n",
    "        self.do1    = nn.Dropout(0.1)\n",
    "\n",
    "        self.fc2    = nn.Linear(128, 64)\n",
    "        self.relu2  = nn.ReLU()\n",
    "        self.bn2    = nn.BatchNorm1d(64)\n",
    "        self.do2    = nn.Dropout(0.1)\n",
    "\n",
    "        self.fc3    = nn.Linear(64, 32)\n",
    "        self.relu3  = nn.ReLU()\n",
    "        self.bn3    = nn.BatchNorm1d(32)\n",
    "        self.do3    = nn.Dropout(0.1)\n",
    "\n",
    "        self.out    = nn.Linear(32, action_size)\n",
    "    \n",
    "    def forward(self, state):\n",
    "        x = self.do1(self.bn1(self.relu1(self.fc1(state))))\n",
    "        x = self.do2(self.bn2(self.relu2(self.fc2(x))))\n",
    "        x = self.do3(self.bn3(self.relu3(self.fc3(x))))\n",
    "        return self.out(x)"
   ]
  },
  {
   "cell_type": "code",
   "execution_count": 7,
   "metadata": {},
   "outputs": [],
   "source": [
    "import random\n",
    "from collections import namedtuple, deque\n",
    "\n",
    "class ReplayBuffer:\n",
    "    \"\"\" Fixed-size buffer to store experience tuples. \"\"\"\n",
    "    def __init__(self, action_size, buffer_size, batch_size, seed):\n",
    "        \"\"\" Initialize Replay buffer\n",
    "        Parameters\n",
    "        ----------\n",
    "            action_size (int):  Dimension of each action\n",
    "            buffer_size (int):  Maximum size of buffer\n",
    "            batch_size (int):   Size of each training batch\n",
    "            seed (int):         Random seed\n",
    "        \"\"\"\n",
    "        self.action_size    = action_size\n",
    "        self.memory         = deque(maxlen=buffer_size)\n",
    "        self.batch_size     = batch_size\n",
    "        self.experience     = namedtuple(\"Experience\", field_names=[\"state\", \"action\", \"reward\", \"next_state\", \"done\"])\n",
    "        self.seed           = random.seed(seed)\n",
    "\n",
    "    def add(self, state, action, reward, next_state, done):\n",
    "        \"\"\" Add a new experience to memory. \"\"\"\n",
    "        self.memory.append(self.experience(state, action, reward, next_state, done))\n",
    "        \n",
    "    def sample(self):\n",
    "        \"\"\" Select Random samples of batch size\"\"\"\n",
    "\n",
    "        experiences = random.sample(self.memory, k=self.batch_size)\n",
    "        states      = torch.from_numpy(np.vstack([e.state for e in experiences if e is not None])).float().to(device)\n",
    "        actions     = torch.from_numpy(np.vstack([e.action for e in experiences if e is not None])).long().to(device)\n",
    "        rewards     = torch.from_numpy(np.vstack([e.reward for e in experiences if e is not None])).float().to(device)\n",
    "        next_states = torch.from_numpy(np.vstack([e.next_state for e in experiences if e is not None])).float().to(device)\n",
    "        dones       = torch.from_numpy(np.vstack([e.done for e in experiences if e is not None]).astype(np.uint8)).float().to(device)\n",
    "\n",
    "        return (states, actions, rewards, next_states, dones)\n",
    "    \n",
    "    def __len__(self):\n",
    "        \"\"\" Return the current size of internal memory. \"\"\"\n",
    "        return len(self.memory)"
   ]
  },
  {
   "cell_type": "code",
   "execution_count": 8,
   "metadata": {},
   "outputs": [],
   "source": [
    "import random\n",
    "import torch.optim as optim\n",
    "import torch.nn.functional as F\n",
    "\n",
    "class Agent():\n",
    "    \"\"\" An agent interacts with environment and learns from it. \"\"\"\n",
    "    def __init__(self, state_size, action_size, seed):\n",
    "        \"\"\" Initialize the agent \"\"\"\n",
    "        self.state_size     = state_size\n",
    "        self.action_size    = action_size\n",
    "        self.seed           = random.seed(seed)\n",
    "\n",
    "        # Hyper parameters\n",
    "        self.lr             = 5e-4      # learning rate\n",
    "        self.gamma          = 0.99      # discount factor\n",
    "        self.batch_size     = 64        # minibatch size for training\n",
    "        self.tau            = 1e-3      # soft update weight for target params\n",
    "        self.buffer_size    = int(1e7)  # replay buffer size\n",
    "        self.local_update_freq    = 4   # how often to update the local network\n",
    "        self.target_update_freq   = self.local_update_freq * 4 # how often to update target network\n",
    "        \n",
    "        # DQ-Network\n",
    "        self.q_network_local    = DQNetwork(self.state_size, self.action_size, seed)\n",
    "        self.q_network_target   = DQNetwork(self.state_size, self.action_size, seed)\n",
    "        self.optimizer          = optim.Adam(self.q_network_local.parameters(), lr=self.lr, weight_decay=1e-5)\n",
    "        \n",
    "        # Replay memory\n",
    "        self.memory     = ReplayBuffer(self.action_size, self.buffer_size, self.batch_size, seed)\n",
    "        # Initialize time step (for updating every \"update_freq\" steps)\n",
    "        self.t_step_local   = 0\n",
    "        self.t_step_target  = 0\n",
    "        \n",
    "    def act(self, state, eps=0.0):\n",
    "        \"\"\" Returns action for given state as per current policy.\n",
    "        Parameters\n",
    "        ----------\n",
    "            state (array_like): Current_state\n",
    "            eps (float):        Epsilon, for epsilon-greedy action selection\n",
    "        \"\"\"\n",
    "        state = torch.from_numpy(np.array(state.tolist())).float().unsqueeze(0).to(device)\n",
    "        \n",
    "        # Set the network to evaluation mode\n",
    "        self.q_network_local.eval()\n",
    "        with torch.no_grad():\n",
    "            action_values = self.q_network_local(state)\n",
    "\n",
    "        # Set the network back to training mode\n",
    "        self.q_network_local.train()\n",
    "\n",
    "        # Epsilon-greedy action selection\n",
    "        if random.random() > eps:\n",
    "            return np.argmax(action_values.cpu().data.numpy())\n",
    "        else:\n",
    "            return random.choice(np.arange(self.action_size))\n",
    "\n",
    "    def soft_update(self, local_model, target_model, tau: float):\n",
    "        \"\"\" Soft update model parameters.\n",
    "        θ_target = τ*θ_local + (1 - τ)*θ_target\n",
    "        Parameters\n",
    "        ----------\n",
    "            local_model (PyTorch model):    weights will be copied from\n",
    "            target_model (PyTorch model):   weights will be copied to\n",
    "            tau (float):                    interpolation parameter\n",
    "        \"\"\"\n",
    "        for target_param, local_param in zip(target_model.parameters(), local_model.parameters()):\n",
    "            target_param.data.copy_(tau*local_param.data + (1.0 - tau)*target_param.data)\n",
    "                \n",
    "    def learn(self, experiences, gamma):\n",
    "        \"\"\" Update value parameters using given batch of experience tuples. \n",
    "        Parameters\n",
    "        ----------\n",
    "            experiences (Tuple[torch.Variable]):    tuple of (s, a, r, s', done) tuples\n",
    "            gamma (float):                          discount factor\n",
    "        \"\"\"\n",
    "        states, actions, rewards, next_states, dones = experiences\n",
    "        # Get max predicted Q values (for next states) from target model\n",
    "        Q_targets_next = self.q_network_target(next_states).detach().max(1)[0].unsqueeze(1)\n",
    "        # Compute Q targets for current states\n",
    "        # if done add only reward, if not add the discounted expected value\n",
    "        Q_targets = rewards + (gamma * Q_targets_next * (1 - dones))\n",
    "        # Get expected Q values from local model\n",
    "        Q_expected = self.q_network_local(states).gather(1, actions)\n",
    "    \n",
    "        # Compute loss\n",
    "        loss = F.mse_loss(Q_expected, Q_targets)\n",
    "        # Minimize the loss\n",
    "        self.optimizer.zero_grad()\n",
    "        loss.backward()\n",
    "        self.optimizer.step()\n",
    "\n",
    "        # ------------------ Update the target network -------------------#\n",
    "        if (self.t_step_target == 0):\n",
    "            self.soft_update(self.q_network_local, self.q_network_target, self.tau)\n",
    "\n",
    "    def step(self, state, action, reward, next_state, done):\n",
    "        # Save experience in replay memory\n",
    "        self.memory.add(state, action, reward, next_state, done)\n",
    "\n",
    "        # Learn every \"update_freq\" steps\n",
    "        self.t_step_local = (self.t_step_local + 1) % self.local_update_freq\n",
    "        self.t_step_target = (self.t_step_target + 1) % self.target_update_freq\n",
    "        \n",
    "        if (self.t_step_local == 0):\n",
    "            # If enough samples are available in memory, get random subset and learn\n",
    "            if len(self.memory) > self.batch_size:\n",
    "                experiences = self.memory.sample()\n",
    "                self.learn(experiences, self.gamma)"
   ]
  },
  {
   "cell_type": "code",
   "execution_count": 9,
   "metadata": {},
   "outputs": [],
   "source": [
    "agent = Agent(state_size, action_size, seed)"
   ]
  },
  {
   "cell_type": "code",
   "execution_count": 10,
   "metadata": {},
   "outputs": [],
   "source": [
    "def dqn(num_episodes=2000, max_t=1000, eps_start=1.0, eps_end=0.001, eps_decay=0.995):\n",
    "    \"\"\" Deep Q-Learning.\n",
    "    Parameters\n",
    "    ----------\n",
    "        n_episodes (int):   Maximum number of training episodes\n",
    "        max_t (int):        Maximum number of timesteps per episode\n",
    "        eps_start (float):  Starting value of epsilon, for epsilon-greedy policy\n",
    "        eps_end (float):    Minimum value of epsilon\n",
    "        eps_decay (float):  Decay rate of epsilon over the time\n",
    "    \"\"\"\n",
    "    scores = []\n",
    "    scores_window = deque(maxlen=100)\n",
    "    eps     = eps_start\n",
    "\n",
    "    for i_episode in range(1, num_episodes+1):\n",
    "        env_info = env.reset(train_mode=True)[brain_name]       # reset the environment\n",
    "        state = env_info.vector_observations[0]                 # get the current state\n",
    "        score = 0                                               # initialize the score\n",
    "        for t in range(max_t):\n",
    "            action = agent.act(state)                           # select an action\n",
    "            env_info = env.step(action)[brain_name]             # send the action to the environment\n",
    "            next_state = env_info.vector_observations[0]        # get the next state\n",
    "            reward = env_info.rewards[0]                        # get the reward\n",
    "            done = env_info.local_done[0]                       # see if episode has finished\n",
    "            agent.step(state, action, reward, next_state, done) # step for the agent to learn from the outcome\n",
    "            score += reward                                     # update the score\n",
    "            state = next_state                                  # roll over the state to next time step\n",
    "            if done:                                            # exit loop if episode finished\n",
    "                break\n",
    "        scores.append(score)\n",
    "        scores_window.append(score)\n",
    "        eps = max(eps_end, eps_decay*eps)\n",
    "        print('\\rEpisode {}\\tAverage Score: {:.2f}'.format(i_episode, np.mean(scores_window)), end=\"\")\n",
    "        if i_episode % 100 == 0:\n",
    "            print('\\rEpisode {}\\tAverage Score: {:.2f}'.format(i_episode, np.mean(scores_window))) \n",
    "    return scores"
   ]
  },
  {
   "cell_type": "code",
   "execution_count": 11,
   "metadata": {},
   "outputs": [
    {
     "name": "stdout",
     "output_type": "stream",
     "text": [
      "Episode 100\tAverage Score: 0.62\n",
      "Episode 200\tAverage Score: 1.63\n",
      "Episode 300\tAverage Score: 5.74\n",
      "Episode 400\tAverage Score: 4.92\n",
      "Episode 500\tAverage Score: 5.24\n",
      "Episode 600\tAverage Score: 8.24\n",
      "Episode 700\tAverage Score: 8.86\n",
      "Episode 800\tAverage Score: 11.93\n",
      "Episode 900\tAverage Score: 14.01\n",
      "Episode 1000\tAverage Score: 14.57\n",
      "Episode 1100\tAverage Score: 15.50\n",
      "Episode 1200\tAverage Score: 16.64\n",
      "Episode 1300\tAverage Score: 16.44\n",
      "Episode 1400\tAverage Score: 17.10\n",
      "Episode 1500\tAverage Score: 16.46\n",
      "Episode 1600\tAverage Score: 16.99\n",
      "Episode 1700\tAverage Score: 16.95\n",
      "Episode 1800\tAverage Score: 16.92\n",
      "Episode 1900\tAverage Score: 17.65\n",
      "Episode 2000\tAverage Score: 17.09\n"
     ]
    }
   ],
   "source": [
    "scores = dqn()"
   ]
  },
  {
   "cell_type": "code",
   "execution_count": 12,
   "metadata": {},
   "outputs": [
    {
     "data": {
      "image/png": "[encoded data removed]",
      "text/plain": [
       "<Figure size 432x288 with 1 Axes>"
      ]
     },
     "metadata": {
      "needs_background": "light"
     },
     "output_type": "display_data"
    }
   ],
   "source": [
    "import matplotlib.pyplot as plt\n",
    "%matplotlib inline\n",
    "\n",
    "# plot the scores\n",
    "plt.plot(np.arange(len(scores)), scores)\n",
    "plt.ylabel('Score')\n",
    "plt.xlabel('Episode #')\n",
    "plt.show()"
   ]
  },
  {
   "cell_type": "code",
   "execution_count": 16,
   "metadata": {},
   "outputs": [],
   "source": [
    "# torch.save(agent.q_network_local.state_dict(), 'model.pt')"
   ]
  },
  {
   "cell_type": "code",
   "execution_count": 17,
   "metadata": {},
   "outputs": [],
   "source": [
    "# load the weights from file\n",
    "agent.q_network_local.load_state_dict(torch.load('model.pt'))"
   ]
  },
  {
   "cell_type": "code",
   "execution_count": 19,
   "metadata": {},
   "outputs": [
    {
     "name": "stdout",
     "output_type": "stream",
     "text": [
      "Score: 21.0\n"
     ]
    }
   ],
   "source": [
    "# Watch the trained agent navigating and doing its task\n",
    "env_info = env.reset(train_mode=False)[brain_name] # reset the environment\n",
    "state = env_info.vector_observations[0]            # get the current state\n",
    "score = 0                                          # initialize the score\n",
    "while True:\n",
    "    action = agent.act(state)                      # select an action\n",
    "    env_info = env.step(action)[brain_name]        # send the action to the environment\n",
    "    next_state = env_info.vector_observations[0]   # get the next state\n",
    "    reward = env_info.rewards[0]                   # get the reward\n",
    "    done = env_info.local_done[0]                  # see if episode has finished\n",
    "    score += reward                                # update the score\n",
    "    state = next_state                             # roll over the state to next time step\n",
    "    if done:                                       # exit loop if episode finished\n",
    "        break\n",
    "    \n",
    "print(\"Score: {}\".format(score))"
   ]
  },
  {
   "cell_type": "code",
   "execution_count": null,
   "metadata": {},
   "outputs": [],
   "source": []
  }
 ],
 "metadata": {
  "kernelspec": {
   "display_name": "drlnd",
   "language": "python",
   "name": "python3"
  },
  "language_info": {
   "codemirror_mode": {
    "name": "ipython",
    "version": 3
   },
   "file_extension": ".py",
   "mimetype": "text/x-python",
   "name": "python",
   "nbconvert_exporter": "python",
   "pygments_lexer": "ipython3",
   "version": "3.6.13"
  }
 },
 "nbformat": 4,
 "nbformat_minor": 2
}
